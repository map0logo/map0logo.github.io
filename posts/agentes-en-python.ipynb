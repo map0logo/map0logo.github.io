{
 "cells": [
  {
   "cell_type": "markdown",
   "metadata": {},
   "source": [
    "# Agentes en Python\n",
    "\n",
    "El recién creado grupo de Telegram https://telegram.me/PyDataVE se creó a partir del interés en el tema de inteligencia artificial.  Desde el punto de vista del libro mas utilizado en el planeta para la enseñanza de Inteligencia Artificial \"Artificial Intelligence: A Modern Approach\" (AIMA) de Russell y Norvig http://aima.cs.berkeley.edu/ quizás el concepto más básico es el de *agente*. \n",
    "\n",
    "En este libro se definen los agentes como:\n",
    "> Un agente es cualquier cosa capaz de percibir su **entorno** a través de **sensores** (que reciben perceptos) y realizar acciones sobre este entorno mediante **actuadores**.\n",
    "> El comportamiento del agente viene dado por la **función del agente** que proyecta una secuencia de **perceptos** en una **acción**.\n",
    "\n",
    "Precisamente esta función del agente $f : P^\\ast \\rightarrow A$ es la representación de la inteligencia, lo que puede permitir al agente comportarse de un modo *racional* (o no). Es decir, busca alcanzar el mejor resultado de acuerdo a una **medida de rendimiento**."
   ]
  },
  {
   "cell_type": "markdown",
   "metadata": {},
   "source": [
    "## aima-python\n",
    "\n",
    "En el repositorio \"oficial\" de python del libro AIMA https://github.com/aimacode/aima-python/blob/master/agents.py codifican del siguiente modo a los agentes. Dado que los agentes son un tipo de cosas con sensores y actuadores, empiezan por definir *cosa*."
   ]
  },
  {
   "cell_type": "code",
   "execution_count": 1,
   "metadata": {
    "collapsed": true
   },
   "outputs": [],
   "source": [
    "class Thing():\n",
    "    \"\"\"This represents any physical object that can appear in an Environment.\n",
    "    You subclass Thing to get the things you want.  Each thing can have a\n",
    "    .__name__  slot (used for output only).\"\"\"\n",
    "\n",
    "    def __repr__(self):\n",
    "        return '<{}>'.format(getattr(self, '__name__', self.__class__.__name__))\n",
    "\n",
    "    def is_alive(self):\n",
    "        \"Things that are 'alive' should return true.\"\n",
    "        return hasattr(self, 'alive') and self.alive\n",
    "\n",
    "    def show_state(self):\n",
    "        \"Display the agent's internal state.  Subclasses should override.\"\n",
    "        print(\"I don't know how to show_state.\")\n",
    "\n",
    "    def display(self, canvas, x, y, width, height):\n",
    "        # Do we need this?\n",
    "        \"Display an image of this Thing on the canvas.\"\n",
    "        pass"
   ]
  },
  {
   "cell_type": "markdown",
   "metadata": {},
   "source": [
    "La clase `Thing` es la definición general (clase abstracta) de una cosa a la que podríamos consultar si está viva o no usando `is_alive()`, puede tener un estado que mostraría mediante `show_state()`, y que para fines didácticos podría representarse gráficamente mediante `display()`.\n",
    "\n",
    "Por su parte, definen al agente de la siguiente manera:"
   ]
  },
  {
   "cell_type": "code",
   "execution_count": 2,
   "metadata": {
    "collapsed": true
   },
   "outputs": [],
   "source": [
    "class Agent(Thing):\n",
    "\n",
    "    \"\"\"An Agent is a subclass of Thing with one required slot,\n",
    "    .program, which should hold a function that takes one argument, the\n",
    "    percept, and returns an action. (What counts as a percept or action\n",
    "    will depend on the specific environment in which the agent exists.)\n",
    "    Note that 'program' is a slot, not a method.  If it were a method,\n",
    "    then the program could 'cheat' and look at aspects of the agent.\n",
    "    It's not supposed to do that: the program can only look at the\n",
    "    percepts.  An agent program that needs a model of the world (and of\n",
    "    the agent itself) will have to build and maintain its own model.\n",
    "    There is an optional slot, .performance, which is a number giving\n",
    "    the performance measure of the agent in its environment.\"\"\"\n",
    "\n",
    "    def __init__(self, program=None):\n",
    "        self.alive = True\n",
    "        self.bump = False\n",
    "        self.holding = []\n",
    "        self.performance = 0\n",
    "        if program is None:\n",
    "            def program(percept):\n",
    "                return eval(input('Percept={}; action? ' .format(percept)))\n",
    "        assert isinstance(program, collections.Callable)\n",
    "        self.program = program\n",
    "\n",
    "    def can_grab(self, thing):\n",
    "        \"\"\"Returns True if this agent can grab this thing.\n",
    "        Override for appropriate subclasses of Agent and Thing.\"\"\"\n",
    "        return False"
   ]
  },
  {
   "cell_type": "markdown",
   "metadata": {},
   "source": [
    "Así, mediante herencia se establece que un agente es un tipo de cosa que está viva `self.alive = True` y que no es un simple obstáculo `self.bump = False`. El agente puede recolectar cosas mediante `can_grab(thing)` y almacena en `self.holding = []`, y tiene una medida de rendimiento interna `self. performance`.\n",
    "\n",
    "Finalmente, contiene la colección descrita en `program` que recibe perceptos y devuelve acciones.\n",
    "\n",
    "Ambas son definiciones abstractas que se utilizan en los ejemplos que están en el mismo repositorios y que se revisarán con detenimiento en otros artículos."
   ]
  },
  {
   "cell_type": "markdown",
   "metadata": {},
   "source": [
    "## Modelo de Schelling\n",
    "\n",
    "Un ejemplo clásico de simulación de agentes es el Modelo Dinámico de Segregación de Thomas Schelling de 1971 \"Dynamic Models of Segregation\" [Journal of Mathematical Sociology. 1 (2): 143–186. doi:10.1080/0022250x.1971.9989794], en el que se representa una simulación de segregación racial en la que a partir de una definición simple del comportamiento individual de los agentes es posible observar como emergen comportamientos colectivos. Estas ideas luego son generalizadas en su libro seminal de 1978 \"Micromotives and Macrobehavior\" http://books.wwnorton.com/books/978-0-393-32946-9/. Vale la pena señalar que Thomas Schelling fue ganador del Premio Nobel de Economía en el 2005.\n",
    "\n",
    "El modelo de Schelling del mundo es una malla; cada celda representa una casa. Las casas están ocupadas por dos clases de personas, con la etiqueta de color rojo y azul, en aproximadamente el mismo número. Una pequeña proporción de las casas están vacías. En cualquier momento, un agente puede ser feliz o infeliz, dependiendo de los otros agentes en el vecindario. La vecindad de cada casa es el conjunto de ocho células adyacentes. En una versión del modelo, los agentes son felices si tienen al menos dos vecinos de su mismo tipo, e infeliz si tienen uno o cero.\n",
    "\n",
    "La simulación pasa por la elección de un agente al azar y la comprobación para ver si es feliz. Si es así, no pasa nada; si no, el agente elige una de las celdas desocupadas al azar y se muda.\n",
    "\n",
    "Se mostrarán a continuación dos definiciones de agentes utilizadas para simular el modelo de Schelling como ejemplos concretos y alternativos de implantación de agentes."
   ]
  },
  {
   "cell_type": "markdown",
   "metadata": {},
   "source": [
    "### Mesa\n",
    "\n",
    "Mesa https://github.com/projectmesa/mesa es un framework en Python para el desarrollo de simulaciones basadas en agentes que espera convertirse en una alternativa de las bibliotecas mas utilizadas en simulación multiagente que están desarrolladas en Java. La representación abstracta de un agente en Mesa es muy simple:"
   ]
  },
  {
   "cell_type": "code",
   "execution_count": 3,
   "metadata": {
    "collapsed": true
   },
   "outputs": [],
   "source": [
    "class Agent:\n",
    "    \"\"\" Base class for a model agent. \"\"\"\n",
    "    def __init__(self, unique_id, model):\n",
    "        \"\"\" Create a new agent. \"\"\"\n",
    "        self.unique_id = unique_id\n",
    "        self.model = model\n",
    "\n",
    "    def step(self):\n",
    "        \"\"\" A single step of the agent. \"\"\"\n",
    "        pass"
   ]
  },
  {
   "cell_type": "markdown",
   "metadata": {},
   "source": [
    "En este caso se representa como una entidad con una identificación única `unique_id`, que está asociado a un modelo `model`, y realiza pasos `steps()`.\n",
    "\n",
    "A partir de está definición se define un agente para el modelo de Schelling https://github.com/projectmesa/mesa/blob/master/examples/Schelling/model.py:"
   ]
  },
  {
   "cell_type": "code",
   "execution_count": 4,
   "metadata": {
    "collapsed": true
   },
   "outputs": [],
   "source": [
    "class SchellingAgent(Agent):\n",
    "    '''\n",
    "    Schelling segregation agent\n",
    "    '''\n",
    "    def __init__(self, pos, model, agent_type):\n",
    "        '''\n",
    "         Create a new Schelling agent.\n",
    "         Args:\n",
    "            unique_id: Unique identifier for the agent.\n",
    "            x, y: Agent initial location.\n",
    "            agent_type: Indicator for the agent's type (minority=1, majority=0)\n",
    "        '''\n",
    "        super().__init__(pos, model)\n",
    "        self.pos = pos\n",
    "        self.type = agent_type\n",
    "\n",
    "    def step(self):\n",
    "        similar = 0\n",
    "        for neighbor in self.model.grid.neighbor_iter(self.pos):\n",
    "            if neighbor.type == self.type:\n",
    "                similar += 1\n",
    "\n",
    "        # If unhappy, move:\n",
    "        if similar < self.model.homophily:\n",
    "            self.model.grid.move_to_empty(self)\n",
    "        else:\n",
    "            self.model.happy += 1"
   ]
  },
  {
   "cell_type": "markdown",
   "metadata": {},
   "source": [
    "Nótese que en este caso el comportamiento *reactivo* del agente se especifica en el método `step()`, en cada paso de la simulación el agente verifica el número de vecinos `model.grid.neighbor_iter(self.pos)` de su mismo tipo y no satisface la tolerancia del modelo `model.homophily` el agente se mueve a una celda vacía.\n",
    "\n",
    "El modelo hace referencia al *entorno* mencionado arriba, y la cantidad de vecinos y su tipo son perceptos que adquiere mediante un proceso sensorial implícito, esta información la convierte en la decisión de realizar la acción de mudarse o quedarse en el mismo lugar."
   ]
  },
  {
   "cell_type": "markdown",
   "metadata": {},
   "source": [
    "### Think Complexity\n",
    "\n",
    "Finalmente revisemos la implementación de un agente que hace Allen Downey para este mismo modelo en la 2da Edición de su libro \"Think Complexity\" https://github.com/AllenDowney/ThinkComplexity2/blob/master/code/chap09.ipynb:"
   ]
  },
  {
   "cell_type": "code",
   "execution_count": 5,
   "metadata": {
    "collapsed": true
   },
   "outputs": [],
   "source": [
    "class Agent:\n",
    "    \n",
    "    def __init__(self, loc, params):\n",
    "        \"\"\"Creates a new agent at the given location.\n",
    "        \n",
    "        loc: tuple coordinates\n",
    "        params: dictionary of parameters\n",
    "        \"\"\"\n",
    "        self.loc = tuple(loc)\n",
    "        self.age = 0\n",
    "\n",
    "        # extract the parameters\n",
    "        max_vision = params.get('max_vision', 6)\n",
    "        max_metabolism = params.get('max_metabolism', 4)\n",
    "        min_lifespan = params.get('min_lifespan', 10000)\n",
    "        max_lifespan = params.get('max_lifespan', 10000)\n",
    "        min_sugar = params.get('min_sugar', 5)\n",
    "        max_sugar = params.get('max_sugar', 25)\n",
    "        \n",
    "        # choose attributes\n",
    "        self.vision = np.random.random_integers(max_vision)\n",
    "        self.metabolism = np.random.uniform(1, max_metabolism)\n",
    "        self.lifespan = np.random.uniform(min_lifespan, max_lifespan)\n",
    "        self.sugar = np.random.uniform(min_sugar, max_sugar)\n",
    "\n",
    "    def step(self, env):\n",
    "        \"\"\"Look around, move, and harvest.\n",
    "        \n",
    "        env: Sugarscape\n",
    "        \"\"\"\n",
    "        self.loc = env.look_around(self.loc, self.vision)\n",
    "        self.sugar += env.harvest(self.loc) - self.metabolism\n",
    "        self.age += 1\n",
    "\n",
    "    def is_starving(self):\n",
    "        \"\"\"Checks if sugar has gone negative.\"\"\"\n",
    "        return self.sugar < 0\n",
    "    \n",
    "    def is_old(self):\n",
    "        \"\"\"Checks if lifespan is exceeded.\"\"\"\n",
    "        return self.age > self.lifespan"
   ]
  },
  {
   "cell_type": "markdown",
   "metadata": {},
   "source": [
    "Fíjense que en este caso se añaden detalles adicionales del estado del agente: edad `age` y localización `loc` (coordenadas de su posición en la malla). Aparte de su metabolismo `metabolism` (esto es, la velocidad con la que consume energía), su alcance visual `vision`, la duración de su vida `lifespan`, y la cantidad de azúcar `sugar` que contiene, como una medida genérica de energía. Los agentes que superan su límite de vida y se quedan sin azúzar son eliminados.\n",
    "\n",
    "`vision` es un parámetro que determina el proceso sensorial con el que percibe el entorno a partir de su posición actual `env.look_around(self.loc, self.vision)`, y en esta función es donde se toma la decisión hacia donde moverse En esta versión del modelo se mueve hacia la celda vacía dentro de su campo visual con la mayor cantidad de azúcar."
   ]
  },
  {
   "cell_type": "markdown",
   "metadata": {},
   "source": [
    "Estos dos últimos ejemplos de agentes sirven como demostraciones de casos concretos, en este caso agentes reactivos con un comportamiento muy simple. Ya sea la felicidad o el nivel de azúcar son medidas de rendimiento que determinan el comportamiento de los agentes."
   ]
  },
  {
   "cell_type": "code",
   "execution_count": null,
   "metadata": {
    "collapsed": true
   },
   "outputs": [],
   "source": []
  }
 ],
 "metadata": {
  "kernelspec": {
   "display_name": "Python 3",
   "language": "python",
   "name": "python3"
  },
  "language_info": {
   "codemirror_mode": {
    "name": "ipython",
    "version": 3
   },
   "file_extension": ".py",
   "mimetype": "text/x-python",
   "name": "python",
   "nbconvert_exporter": "python",
   "pygments_lexer": "ipython3",
   "version": "3.5.2"
  },
  "nikola": {
   "category": "",
   "date": "2016-09-17 23:26:50 UTC-04:00",
   "description": "",
   "link": "",
   "slug": "implementacion-de-agentes-en-python",
   "tags": "",
   "title": "Implementación de Agentes en Python",
   "type": "text"
  }
 },
 "nbformat": 4,
 "nbformat_minor": 1
}
